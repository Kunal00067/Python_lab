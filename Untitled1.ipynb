{
  "nbformat": 4,
  "nbformat_minor": 0,
  "metadata": {
    "colab": {
      "provenance": [],
      "authorship_tag": "ABX9TyPtwiwfyupSqxdOT0I8A6M1",
      "include_colab_link": true
    },
    "kernelspec": {
      "name": "python3",
      "display_name": "Python 3"
    },
    "language_info": {
      "name": "python"
    }
  },
  "cells": [
    {
      "cell_type": "markdown",
      "metadata": {
        "id": "view-in-github",
        "colab_type": "text"
      },
      "source": [
        "<a href=\"https://colab.research.google.com/github/Kunal00067/Python_lab/blob/main/Untitled1.ipynb\" target=\"_parent\"><img src=\"https://colab.research.google.com/assets/colab-badge.svg\" alt=\"Open In Colab\"/></a>"
      ]
    },
    {
      "cell_type": "code",
      "execution_count": 11,
      "metadata": {
        "colab": {
          "base_uri": "https://localhost:8080/"
        },
        "id": "VcmzlKG6NU9T",
        "outputId": "db901f34-f28f-4e74-9b36-611338c11994"
      },
      "outputs": [
        {
          "output_type": "stream",
          "name": "stdout",
          "text": [
            "* \n",
            "\n",
            "* * \n",
            "\n",
            "* * * \n",
            "\n",
            "* * * * \n",
            "\n"
          ]
        }
      ],
      "source": [
        "#program 1: lab5\n",
        "for i in range(1,5):\n",
        "        for j in range(0,i):\n",
        "            print(\"* \", end=\"\")\n",
        "        print(\"\\n\")"
      ]
    },
    {
      "cell_type": "code",
      "source": [
        "#program 2: lab 5\n",
        "\n",
        "num = int(input(\"Enter the number: \"))\n",
        "\n",
        "count = 1\n",
        "for i in range(1, num):\n",
        "    for j in range(0,i):\n",
        "       print(count,end=\" \")\n",
        "       count = count +1\n",
        "    print( )\n",
        "\n",
        "\n",
        "\n",
        "\n",
        "#i = 1 → inner loop runs j = 0 → 1 time → prints 1 number\n",
        "\n",
        "#i = 2 → j = 0, 1 → 2 times → prints 2 numbers\n",
        "\n",
        "#i = 3 → j = 0, 1, 2 → 3 times → prints 3 numbers\n",
        "\n",
        "#i = 4 → j = 0, 1, 2, 3 → 4 times → prints 4 numbers\n"
      ],
      "metadata": {
        "colab": {
          "base_uri": "https://localhost:8080/",
          "height": 140
        },
        "id": "L3oVf6I2OFSn",
        "outputId": "40a00f59-630f-4972-fe5f-461b94f3db09"
      },
      "execution_count": 47,
      "outputs": [
        {
          "output_type": "stream",
          "name": "stdout",
          "text": [
            "Enter the number: 5\n",
            "1 \n",
            "2 3 \n",
            "4 5 6 \n",
            "7 8 9 10 \n"
          ]
        },
        {
          "output_type": "execute_result",
          "data": {
            "text/plain": [
              "'i = 1 → inner loop runs j = 0 → 1 time → prints 1 number\\n\\ni = 2 → j = 0, 1 → 2 times → prints 2 numbers\\n\\ni = 3 → j = 0, 1, 2 → 3 times → prints 3 numbers\\n\\ni = 4 → j = 0, 1, 2, 3 → 4 times → prints 4 numbers'"
            ],
            "application/vnd.google.colaboratory.intrinsic+json": {
              "type": "string"
            }
          },
          "metadata": {},
          "execution_count": 47
        }
      ]
    },
    {
      "cell_type": "code",
      "source": [
        "#program 3: lab 5\n",
        "\n",
        "num = int(input(\"Enter the number: \"))\n",
        "\n",
        "count = 1\n",
        "for i in range(1, num):\n",
        "    count=1\n",
        "    for j in range(0,i):\n",
        "       print(count,end=\" \")\n",
        "       count = count +1\n",
        "    print( )\n"
      ],
      "metadata": {
        "colab": {
          "base_uri": "https://localhost:8080/"
        },
        "id": "JXLyohNBQqEe",
        "outputId": "976246ae-6121-4464-9c1f-afc0f4164091"
      },
      "execution_count": 46,
      "outputs": [
        {
          "output_type": "stream",
          "name": "stdout",
          "text": [
            "Enter the number: 5\n",
            "1 \n",
            "1 2 \n",
            "1 2 3 \n",
            "1 2 3 4 \n"
          ]
        }
      ]
    },
    {
      "cell_type": "code",
      "source": [
        "#program 4: lab5\n",
        "for i in range(5,1,-1):\n",
        "        for j in range(1,i):\n",
        "            print(\"* \", end=\"\")\n",
        "        print(\"\\n\")"
      ],
      "metadata": {
        "colab": {
          "base_uri": "https://localhost:8080/"
        },
        "id": "v3f5rDPFUnJ1",
        "outputId": "0ef89642-0ede-4b08-fdff-26ea76fef6b5"
      },
      "execution_count": 49,
      "outputs": [
        {
          "output_type": "stream",
          "name": "stdout",
          "text": [
            "* * * * \n",
            "\n",
            "* * * \n",
            "\n",
            "* * \n",
            "\n",
            "* \n",
            "\n"
          ]
        }
      ]
    },
    {
      "cell_type": "code",
      "source": [
        "()"
      ],
      "metadata": {
        "id": "-p24t_CcTfZe"
      },
      "execution_count": null,
      "outputs": []
    }
  ]
}