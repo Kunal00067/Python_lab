{
  "nbformat": 4,
  "nbformat_minor": 0,
  "metadata": {
    "colab": {
      "provenance": [],
      "authorship_tag": "ABX9TyOwhDRUGBW+x3Fh9We/Rp95",
      "include_colab_link": true
    },
    "kernelspec": {
      "name": "python3",
      "display_name": "Python 3"
    },
    "language_info": {
      "name": "python"
    }
  },
  "cells": [
    {
      "cell_type": "markdown",
      "metadata": {
        "id": "view-in-github",
        "colab_type": "text"
      },
      "source": [
        "<a href=\"https://colab.research.google.com/github/Kunal00067/Python_lab/blob/main/Untitled12.ipynb\" target=\"_parent\"><img src=\"https://colab.research.google.com/assets/colab-badge.svg\" alt=\"Open In Colab\"/></a>"
      ]
    },
    {
      "cell_type": "code",
      "execution_count": null,
      "metadata": {
        "colab": {
          "base_uri": "https://localhost:8080/"
        },
        "id": "iE4GuH7Tfr9W",
        "outputId": "b9b395d0-d09a-42d8-aba5-5029ee268f92"
      },
      "outputs": [
        {
          "output_type": "stream",
          "name": "stdout",
          "text": [
            "\n",
            "Menu:\n",
            "1. Add Student\n",
            "2. Display Students\n",
            "3. Exit\n",
            "\n",
            "Enter your choice: 1\n",
            "Enter student name: amandeep\n",
            "Enter courses (comma separated): maths\n",
            "Student amandeep added successfully.\n",
            "\n",
            "Menu:\n",
            "1. Add Student\n",
            "2. Display Students\n",
            "3. Exit\n",
            "\n",
            "Enter your choice: 1\n",
            "Enter student name: amandeep\n",
            "Enter courses (comma separated): science\n",
            "Student amandeep added successfully.\n",
            "\n",
            "Menu:\n",
            "1. Add Student\n",
            "2. Display Students\n",
            "3. Exit\n",
            "\n",
            "Enter your choice: 2\n",
            "Student: amandeep , Courses: science\n",
            "amandeep : ['science']\n",
            "\n",
            "Menu:\n",
            "1. Add Student\n",
            "2. Display Students\n",
            "3. Exit\n"
          ]
        }
      ],
      "source": [
        "\n",
        "\n",
        "\n",
        "students = {}\n",
        "\n",
        "while True:\n",
        "    print(\"\\nMenu:\")\n",
        "    print(\"1. Add Student\")\n",
        "    print(\"2. Display Students\")\n",
        "    print(\"3. Exit\")\n",
        "\n",
        "    # Taking user's choice\n",
        "    choice = int(input(\"\\nEnter your choice: \"))\n",
        "\n",
        "    if choice == 1:\n",
        "        # Adding a student with their courses\n",
        "        name = input(\"Enter student name: \")\n",
        "        courses = input(\"Enter courses (comma separated): \").split(\",\")\n",
        "       # courses = [course.strip() for course in courses]  # Clean up the input\n",
        "        students[name] = set(courses)\n",
        "        print(\"Student\", name, \"added successfully.\")\n",
        "\n",
        "    elif choice == 2:\n",
        "        # Displaying all students and their courses\n",
        "        if  students==0:\n",
        "            print(\"No students enrolled yet.\")\n",
        "        else:\n",
        "            #for name in students:\n",
        "             #   print(\"Student:\", name, \", Courses:\", \", \".join(students[name]))\n",
        "             for name, courses in students.items():\n",
        "                print(name, \":\", courses)\n",
        "\n",
        "    elif choice == 3:\n",
        "        print(\"Exiting the system. Goodbye!\")\n",
        "        break\n",
        "\n",
        "    else:\n",
        "        print(\"Invalid choice! Please try again.\")\n"
      ]
    },
    {
      "cell_type": "code",
      "source": [
        "students = {}\n",
        "\n",
        "while True:\n",
        "    print(\"\\n===== STUDENT COURSE MANAGEMENT SYSTEM =====\")\n",
        "    print(\"1. Add Student and their Courses\")\n",
        "    print(\"2. Show All Students with Courses\")\n",
        "    print(\"3. Exit\")\n",
        "\n",
        "   choice = input(\"Enter your choice (1-3): \")\n",
        "\n",
        "    if choice == \"1\":\n",
        "        name = input(\"Enter Student Name: \")\n",
        "        courses = input(\"Enter courses (comma separated): \").split(\",\")\n",
        "        students[name] = set(course.strip().title() for course in courses)\n",
        "        print(\"Student added successfully.\")\n",
        "\n",
        "    elif choice == \"2\":\n",
        "        if not students:\n",
        "            print(\"No students found!\")\n",
        "        else:\n",
        "            for name, courses in students.items():\n",
        "                print(name, \":\", courses)"
      ],
      "metadata": {
        "colab": {
          "base_uri": "https://localhost:8080/",
          "height": 106
        },
        "id": "TDmabwaxgkR1",
        "outputId": "ed4e6f65-73df-41fa-bfb1-334c3f6b8662"
      },
      "execution_count": null,
      "outputs": [
        {
          "output_type": "error",
          "ename": "IndentationError",
          "evalue": "unindent does not match any outer indentation level (<tokenize>, line 9)",
          "traceback": [
            "\u001b[0;36m  File \u001b[0;32m\"<tokenize>\"\u001b[0;36m, line \u001b[0;32m9\u001b[0m\n\u001b[0;31m    choice = input(\"Enter your choice (1-3): \")\u001b[0m\n\u001b[0m    ^\u001b[0m\n\u001b[0;31mIndentationError\u001b[0m\u001b[0;31m:\u001b[0m unindent does not match any outer indentation level\n"
          ]
        }
      ]
    }
  ]
}