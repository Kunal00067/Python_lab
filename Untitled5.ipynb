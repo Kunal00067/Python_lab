{
  "nbformat": 4,
  "nbformat_minor": 0,
  "metadata": {
    "colab": {
      "provenance": [],
      "authorship_tag": "ABX9TyNnT88yh88WIDw2mGYX1Qrs",
      "include_colab_link": true
    },
    "kernelspec": {
      "name": "python3",
      "display_name": "Python 3"
    },
    "language_info": {
      "name": "python"
    }
  },
  "cells": [
    {
      "cell_type": "markdown",
      "metadata": {
        "id": "view-in-github",
        "colab_type": "text"
      },
      "source": [
        "<a href=\"https://colab.research.google.com/github/Kunal00067/Python_lab/blob/main/Untitled5.ipynb\" target=\"_parent\"><img src=\"https://colab.research.google.com/assets/colab-badge.svg\" alt=\"Open In Colab\"/></a>"
      ]
    },
    {
      "cell_type": "code",
      "execution_count": 2,
      "metadata": {
        "colab": {
          "base_uri": "https://localhost:8080/"
        },
        "id": "Wov9cNTOQ5BQ",
        "outputId": "10e909a8-1df8-4f63-8d71-eb6023bcad88"
      },
      "outputs": [
        {
          "output_type": "stream",
          "name": "stdout",
          "text": [
            "Tuple: ('apple', 'banana', 'cherry')\n",
            "First element: apple\n",
            "Second element: banana\n",
            "Third element: cherry\n",
            "Looping through tuple:\n",
            "apple\n",
            "banana\n",
            "cherry\n"
          ]
        }
      ],
      "source": [
        "# lab 8 program1\n",
        "my_tuple = (\"apple\", \"banana\", \"cherry\")\n",
        "\n",
        "# Print the whole tuple\n",
        "print(\"Tuple:\", my_tuple)\n",
        "\n",
        "# Access individual elements\n",
        "print(\"First element:\", my_tuple[0])\n",
        "print(\"Second element:\", my_tuple[1])\n",
        "print(\"Third element:\", my_tuple[2])\n",
        "\n",
        "# using loop\n",
        "print(\"Looping through tuple:\")\n",
        "for fruit in my_tuple:\n",
        "    print(fruit)\n"
      ]
    },
    {
      "cell_type": "code",
      "source": [
        "#lab 8\n",
        "\n",
        "# Create two tuples\n",
        "tuple1 = (1, 2, 3, 4, 5)\n",
        "tuple2 = (6, 7, 8)\n",
        "\n",
        "# Access elements using slicing\n",
        "print(\"Slice from index 1 to 3:\", tuple1[1:4])\n",
        "\n",
        "# Find length of tuple using len()\n",
        "print(\"Length of tuple1:\", len(tuple1))\n",
        "\n",
        "# Check if element exists using 'in' operator\n",
        "print(\"Is 3 in tuple1?\", 3 in tuple1)\n",
        "print(\"Is 10 in tuple1?\", 10 in tuple1)\n",
        "\n",
        "# Concatenate two tuples\n",
        "concatenated = tuple1 + tuple2\n",
        "print(\"Concatenated tuple:\", concatenated)\n",
        "\n",
        "# Repeat tuple multiple times using *\n",
        "repeated = tuple2 * 3\n",
        "print(\"Repeated tuple2 three times:\", repeated)\n",
        "\n",
        "# Convert list to tuple\n",
        "my_list = ['a', 'b', 'c']\n",
        "converted_tuple = tuple(my_list)\n",
        "print(\"Converted tuple from list:\", converted_tuple)\n"
      ],
      "metadata": {
        "id": "qLeDQmLAUV_N"
      },
      "execution_count": null,
      "outputs": []
    },
    {
      "cell_type": "code",
      "source": [
        "#lab 8\n",
        "\n",
        "# 1. Unpack a tuple into variables\n",
        "numbers = (10, 20, 30)\n",
        "a, b, c = numbers\n",
        "print(\"Unpacked values:\", a, b, c)\n",
        "\n",
        "# 2. Swap two numbers using tuple unpacking\n",
        "x = 5\n",
        "y = 10\n",
        "print(\"Before swap: x =\", x, \", y =\", y)\n",
        "x, y = y, x\n",
        "print(\"After swap: x =\", x, \", y =\", y)\n",
        "\n",
        "# 3. Find sum, min, and max of numeric tuple elements\n",
        "num_tuple = (4, 8, 15, 16, 23, 42)\n",
        "total = sum(num_tuple)\n",
        "minimum = min(num_tuple)\n",
        "maximum = max(num_tuple)\n",
        "print(\"Sum:\", total)\n",
        "print(\"Min:\", minimum)\n",
        "print(\"Max:\", maximum)\n"
      ],
      "metadata": {
        "colab": {
          "base_uri": "https://localhost:8080/"
        },
        "id": "sljBjVtSU-7V",
        "outputId": "417f5564-e4b0-46b1-958a-cfb65fe473bf"
      },
      "execution_count": 5,
      "outputs": [
        {
          "output_type": "stream",
          "name": "stdout",
          "text": [
            "Unpacked values: 10 20 30\n",
            "Before swap: x = 5 , y = 10\n",
            "After swap: x = 10 , y = 5\n",
            "Sum: 108\n",
            "Min: 4\n",
            "Max: 42\n"
          ]
        }
      ]
    }
  ]
}