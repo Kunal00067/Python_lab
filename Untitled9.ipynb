{
  "nbformat": 4,
  "nbformat_minor": 0,
  "metadata": {
    "colab": {
      "provenance": [],
      "authorship_tag": "ABX9TyOOUfRHvyyJ2LIqjfBAO2G/",
      "include_colab_link": true
    },
    "kernelspec": {
      "name": "python3",
      "display_name": "Python 3"
    },
    "language_info": {
      "name": "python"
    }
  },
  "cells": [
    {
      "cell_type": "markdown",
      "metadata": {
        "id": "view-in-github",
        "colab_type": "text"
      },
      "source": [
        "<a href=\"https://colab.research.google.com/github/Kunal00067/Python_lab/blob/main/Untitled9.ipynb\" target=\"_parent\"><img src=\"https://colab.research.google.com/assets/colab-badge.svg\" alt=\"Open In Colab\"/></a>"
      ]
    },
    {
      "cell_type": "code",
      "execution_count": null,
      "metadata": {
        "colab": {
          "base_uri": "https://localhost:8080/"
        },
        "id": "FZCjMaTvpIuZ",
        "outputId": "5c749a3e-9178-4f78-b78a-f0fa878d9585"
      },
      "outputs": [
        {
          "output_type": "stream",
          "name": "stdout",
          "text": [
            "Enter initial investment amount: 10000\n",
            "Enter annual interest rate (in %): 10\n",
            "Enter number of years: 4\n",
            "Year 1 : 11000.0\n",
            "Year 2 : 12100.0\n",
            "Year 3 : 13310.0\n",
            "Year 4 : 14641.0\n",
            "Final value of investment after 4 years = 14641.0\n"
          ]
        }
      ],
      "source": [
        "#lab9 program 1\n",
        "# Program to calculate value of investment using for loop\n",
        "\n",
        "initial_investment = float(input(\"Enter initial investment amount: \"))\n",
        "annual_interest = float(input(\"Enter annual interest rate (in %): \"))\n",
        "years = int(input(\"Enter number of years: \"))\n",
        "\n",
        "value = initial_investment\n",
        "\n",
        "# For loop\n",
        "for year in range(1, years + 1):\n",
        "    value = value + (value * annual_interest / 100)\n",
        "    print(\"Year\", year, \":\", value)\n",
        "\n",
        "print(\"Final value of investment after\", years, \"years =\", value)"
      ]
    },
    {
      "cell_type": "code",
      "source": [
        "# write a program that counts the occurrences of character in a string without usong built in count function\n",
        "string = input(\"neter a string:\")\n",
        "char = input(\"enter the character to be counted:\")\n",
        "\n",
        "count = 0\n",
        "\n",
        "for c in string:\n",
        "  if c == char:\n",
        "    count +=1\n",
        "\n",
        "print(\"the character\" \" \"+char+\"occurs\"+str(count)+  \"timrs in the string\")"
      ],
      "metadata": {
        "id": "nps43H1HsFuz",
        "colab": {
          "base_uri": "https://localhost:8080/"
        },
        "outputId": "284eb853-6418-4ba6-a958-c737daf4d965"
      },
      "execution_count": 9,
      "outputs": [
        {
          "output_type": "stream",
          "name": "stdout",
          "text": [
            "neter a string:amit bhura\n",
            "enter the character to be counted:a\n",
            "the character aoccurs2timrs in the string\n"
          ]
        }
      ]
    },
    {
      "cell_type": "code",
      "source": [
        "# program2 write a program that accepts a string from user and redisplays the same string after vowels from it\n",
        "\n",
        "string = input(\"enter a string:\")\n",
        "\n",
        "result =\" \"\n",
        "\n",
        "for c in string:\n",
        "    if c == 'a' or 'e' or 'i' or 'o' or 'u' or 'A' or 'E ' or'I' or 'O' or 'U':\n",
        "      continue\n",
        "    else:\n",
        "       result+=c\n",
        "\n",
        "print(\"the string after vowels are:\",result)\n"
      ],
      "metadata": {
        "id": "XowtGN7Ft95a",
        "colab": {
          "base_uri": "https://localhost:8080/"
        },
        "outputId": "25a9d6c2-52e6-49af-91bf-fc35742a0ef3"
      },
      "execution_count": 11,
      "outputs": [
        {
          "output_type": "stream",
          "name": "stdout",
          "text": [
            "enter a string:chirag arora\n",
            "the string after vowels are:  \n"
          ]
        }
      ]
    },
    {
      "cell_type": "code",
      "source": [
        "#program3write a progaram that accept a strng from user and redisplaus the same stirng after vowels from it\n",
        "string = input(\"Enter a string: \")\n",
        "\n",
        "result = \"\"\n",
        "\n",
        "vowels = \"aeiouAEIOU\"\n",
        "\n",
        "for c in string:\n",
        "    if c in vowels:\n",
        "        continue\n",
        "    else:\n",
        "        result += c\n",
        "\n",
        "print(\"The string after vowels are removed:\", result)\n"
      ],
      "metadata": {
        "colab": {
          "base_uri": "https://localhost:8080/"
        },
        "id": "T7r0E04nzuUg",
        "outputId": "674bccf4-7885-43d5-844a-f5a51927cb96"
      },
      "execution_count": 12,
      "outputs": [
        {
          "output_type": "stream",
          "name": "stdout",
          "text": [
            "Enter a string: chirag arora\n",
            "The string after vowels are removed: chrg rr\n"
          ]
        }
      ]
    }
  ]
}