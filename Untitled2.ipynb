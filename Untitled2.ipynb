{
  "nbformat": 4,
  "nbformat_minor": 0,
  "metadata": {
    "colab": {
      "provenance": [],
      "authorship_tag": "ABX9TyMD+UnLRQyDn/BV9LcfXH6u",
      "include_colab_link": true
    },
    "kernelspec": {
      "name": "python3",
      "display_name": "Python 3"
    },
    "language_info": {
      "name": "python"
    }
  },
  "cells": [
    {
      "cell_type": "markdown",
      "metadata": {
        "id": "view-in-github",
        "colab_type": "text"
      },
      "source": [
        "<a href=\"https://colab.research.google.com/github/Kunal00067/Python_lab/blob/main/Untitled2.ipynb\" target=\"_parent\"><img src=\"https://colab.research.google.com/assets/colab-badge.svg\" alt=\"Open In Colab\"/></a>"
      ]
    },
    {
      "cell_type": "code",
      "execution_count": 18,
      "metadata": {
        "colab": {
          "base_uri": "https://localhost:8080/"
        },
        "id": "I1TSbmXLFLgO",
        "outputId": "461fd0ad-03c0-487a-9268-7f33c6055aea"
      },
      "outputs": [
        {
          "output_type": "stream",
          "name": "stdout",
          "text": [
            "enter the number:8\n",
            "0\n",
            "1\n",
            "1\n",
            "2\n",
            "3\n",
            "5\n",
            "8\n",
            "13\n"
          ]
        }
      ],
      "source": [
        "#lab 6 program1\n",
        "\n",
        "n=int(input(\"enter the number:\"))\n",
        "a=0\n",
        "b=1\n",
        "\n",
        "for n in range(0,n):\n",
        "  print(a)\n",
        "  c=a+b\n",
        "  a=b\n",
        "  b=c\n",
        "\n"
      ]
    },
    {
      "cell_type": "code",
      "source": [
        "\n",
        "num = int(input(\"Enter a number: \"))\n",
        "total = 0\n",
        "\n",
        "while num > 0:\n",
        "    digit = num % 10\n",
        "    total += digit\n",
        "    num = num // 10\n",
        "\n",
        "print(\"Sum of digits:\", total)\n"
      ],
      "metadata": {
        "colab": {
          "base_uri": "https://localhost:8080/"
        },
        "id": "y3qzZN5MIk6w",
        "outputId": "d0d7ae8c-301d-4cd1-9327-2b8c809f9bec"
      },
      "execution_count": 21,
      "outputs": [
        {
          "output_type": "stream",
          "name": "stdout",
          "text": [
            "Enter a number: 555\n",
            "Sum of digits: 15\n"
          ]
        }
      ]
    },
    {
      "cell_type": "code",
      "source": [
        "input1=int(input(\"ener the number:\"))\n",
        "\n",
        "rev=0\n",
        "\n",
        "for i in range(n,-1):\n",
        "\n",
        "\n",
        "\n",
        "if input1==input2\n",
        "  print(\"the number entered is palindrome\")"
      ],
      "metadata": {
        "id": "GJvXlBksKpAg"
      },
      "execution_count": null,
      "outputs": []
    }
  ]
}