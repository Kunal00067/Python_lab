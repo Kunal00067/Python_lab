{
  "nbformat": 4,
  "nbformat_minor": 0,
  "metadata": {
    "colab": {
      "provenance": [],
      "authorship_tag": "ABX9TyOrmeagdEj6+GBOSH4ZJdyL",
      "include_colab_link": true
    },
    "kernelspec": {
      "name": "python3",
      "display_name": "Python 3"
    },
    "language_info": {
      "name": "python"
    }
  },
  "cells": [
    {
      "cell_type": "markdown",
      "metadata": {
        "id": "view-in-github",
        "colab_type": "text"
      },
      "source": [
        "<a href=\"https://colab.research.google.com/github/Kunal00067/Python_lab/blob/main/Untitled17.ipynb\" target=\"_parent\"><img src=\"https://colab.research.google.com/assets/colab-badge.svg\" alt=\"Open In Colab\"/></a>"
      ]
    },
    {
      "cell_type": "code",
      "execution_count": 2,
      "metadata": {
        "colab": {
          "base_uri": "https://localhost:8080/"
        },
        "id": "ZRrfd7ACuXlW",
        "outputId": "f4c755a4-33e9-4505-816a-6688915a440d"
      },
      "outputs": [
        {
          "output_type": "stream",
          "name": "stdout",
          "text": [
            "Sum of elements: 150\n"
          ]
        }
      ],
      "source": [
        "#Sum of elements in an array\n",
        "arr = [10, 20, 30, 40, 50]\n",
        "total = sum(arr)\n",
        "print(\"Sum of elements:\", total)"
      ]
    },
    {
      "cell_type": "code",
      "source": [
        "#Find maximum and minimum in an array\n",
        "arr = [5, 9, 2, 7, 3]\n",
        "print(\"Maximum:\", max(arr))\n",
        "print(\"Minimum:\", min(arr))\n",
        "arr = [5, 9, 2, 7, 3]\n",
        "\n",
        "max_num = arr[0]\n",
        "min_num = arr[0]\n",
        "\n",
        "for num in arr:\n",
        "    if num > max_num:\n",
        "        max_num = num\n",
        "    if num < min_num:\n",
        "        min_num = num\n",
        "\n",
        "print(\"Maximum:\", max_num)\n",
        "print(\"Minimum:\", min_num)"
      ],
      "metadata": {
        "id": "zBhbxpQ1ufcF"
      },
      "execution_count": null,
      "outputs": []
    },
    {
      "cell_type": "code",
      "source": [],
      "metadata": {
        "id": "PNJ0-Ok-vKjN"
      },
      "execution_count": null,
      "outputs": []
    },
    {
      "cell_type": "code",
      "source": [
        "#Reverse an array\n",
        "arr = [1, 2, 3, 4, 5]\n",
        "print(\"Reversed:\", arr[::-1])"
      ],
      "metadata": {
        "colab": {
          "base_uri": "https://localhost:8080/"
        },
        "id": "tQnM4YaovSmt",
        "outputId": "ea765ad6-b49d-4907-8053-ee9aab0f3a9a"
      },
      "execution_count": 3,
      "outputs": [
        {
          "output_type": "stream",
          "name": "stdout",
          "text": [
            "Reversed: [5, 4, 3, 2, 1]\n"
          ]
        }
      ]
    },
    {
      "cell_type": "code",
      "source": [
        "#Count even and odd numbers in an array\n",
        "arr = [1, 2, 3, 4, 5, 6]\n",
        "even = 0\n",
        "odd = 0\n",
        "for num in arr:\n",
        "    if num % 2 == 0:\n",
        "        even += 1\n",
        "    else:\n",
        "        odd += 1\n",
        "print(\"Even count:\", even)\n",
        "print(\"Odd count:\", odd)"
      ],
      "metadata": {
        "id": "aNqOjhJBvfn9"
      },
      "execution_count": null,
      "outputs": []
    },
    {
      "cell_type": "code",
      "source": [
        "#Search an element in an array\n",
        "arr = [10, 20, 30, 40, 50]\n",
        "x = 30\n",
        "\n",
        "if x in arr:\n",
        "    print(x, \"found at index\", arr.index(x))\n",
        "else:\n",
        "    print(x, \"not found\")"
      ],
      "metadata": {
        "id": "4Fp5HXW7vmFN"
      },
      "execution_count": null,
      "outputs": []
    },
    {
      "cell_type": "code",
      "source": [
        "#Find second largest element\n",
        "arr = [10, 20, 4, 45, 99]\n",
        "arr.sort()\n",
        "print(\"Second largest element:\", arr[-2])"
      ],
      "metadata": {
        "colab": {
          "base_uri": "https://localhost:8080/"
        },
        "id": "QlZYwSZPv6N1",
        "outputId": "ba392c58-f6db-42da-f281-9815008da484"
      },
      "execution_count": 4,
      "outputs": [
        {
          "output_type": "stream",
          "name": "stdout",
          "text": [
            "Second largest element: 45\n"
          ]
        }
      ]
    },
    {
      "cell_type": "code",
      "source": [
        "#Remove duplicates from an array\n",
        "arr = [1, 2, 2, 3, 4, 4, 5]\n",
        "unique = []\n",
        "for num in arr:\n",
        "    if num not in unique:\n",
        "        unique.append(num)\n",
        "print(\"Without duplicates:\", unique)"
      ],
      "metadata": {
        "colab": {
          "base_uri": "https://localhost:8080/"
        },
        "id": "iEnn3-kUwuNG",
        "outputId": "f2c920ee-2a78-495c-dca4-a465e0dd4e0d"
      },
      "execution_count": 6,
      "outputs": [
        {
          "output_type": "stream",
          "name": "stdout",
          "text": [
            "Without duplicates: [1, 2, 3, 4, 5]\n"
          ]
        }
      ]
    },
    {
      "cell_type": "code",
      "source": [
        "#Find frequency of each element\n",
        "arr = [1, 2, 2, 3, 3, 3, 4]\n",
        "freq = {}\n",
        "\n",
        "for num in arr:\n",
        "    freq[num] = arr.count(num)\n",
        "\n",
        "print(\"Frequencies:\", freq)\n"
      ],
      "metadata": {
        "colab": {
          "base_uri": "https://localhost:8080/"
        },
        "id": "Wo7k3EJww3vu",
        "outputId": "9b33d1d4-f1e6-41f8-be2a-83904b273410"
      },
      "execution_count": 11,
      "outputs": [
        {
          "output_type": "stream",
          "name": "stdout",
          "text": [
            "Frequencies: {1: 1, 2: 2, 3: 3, 4: 1}\n"
          ]
        }
      ]
    },
    {
      "cell_type": "code",
      "source": [
        "#Sort an array without using built-in sort\n",
        "arr = [64, 25, 12, 22, 11]\n",
        "n = len(arr)\n",
        "\n",
        "for i in range(n - 1):\n",
        "    for j in range(n - i - 1):\n",
        "        if arr[j] > arr[j + 1]:\n",
        "            # swap elements\n",
        "            arr[j], arr[j + 1] = arr[j + 1], arr[j]\n",
        "\n",
        "print(\"Sorted array:\", arr)\n"
      ],
      "metadata": {
        "id": "bJL8NNg8yIbu"
      },
      "execution_count": null,
      "outputs": []
    },
    {
      "cell_type": "code",
      "source": [
        "arr = [1, 2, 3, 4, 5]\n",
        "\n",
        "# move last element to the front\n",
        "arr = [arr[-1]] + arr[:-1]\n",
        "\n",
        "print(\"Rotated array:\", arr)\n"
      ],
      "metadata": {
        "colab": {
          "base_uri": "https://localhost:8080/"
        },
        "id": "iy-scD2EzcFm",
        "outputId": "60c66c58-08bb-47e1-b4e7-620cebe0fdcd"
      },
      "execution_count": 12,
      "outputs": [
        {
          "output_type": "stream",
          "name": "stdout",
          "text": [
            "Rotated array: [5, 1, 2, 3, 4]\n"
          ]
        }
      ]
    }
  ]
}