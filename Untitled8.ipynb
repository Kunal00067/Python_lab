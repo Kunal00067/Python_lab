{
  "nbformat": 4,
  "nbformat_minor": 0,
  "metadata": {
    "colab": {
      "provenance": [],
      "authorship_tag": "ABX9TyMAgx8WWkHOBjH43CS4QOKd",
      "include_colab_link": true
    },
    "kernelspec": {
      "name": "python3",
      "display_name": "Python 3"
    },
    "language_info": {
      "name": "python"
    }
  },
  "cells": [
    {
      "cell_type": "markdown",
      "metadata": {
        "id": "view-in-github",
        "colab_type": "text"
      },
      "source": [
        "<a href=\"https://colab.research.google.com/github/Kunal00067/Python_lab/blob/main/Untitled8.ipynb\" target=\"_parent\"><img src=\"https://colab.research.google.com/assets/colab-badge.svg\" alt=\"Open In Colab\"/></a>"
      ]
    },
    {
      "cell_type": "code",
      "execution_count": 10,
      "metadata": {
        "colab": {
          "base_uri": "https://localhost:8080/"
        },
        "id": "UTE0Zq1EbpeE",
        "outputId": "dbd3ec20-d0aa-4289-b49d-4b38fa9001c3"
      },
      "outputs": [
        {
          "output_type": "stream",
          "name": "stdout",
          "text": [
            "Original String: Hello, World!\n",
            "Lowercase: hello, world!\n",
            "Uppercase: HELLO, WORLD!\n",
            "Split by comma: ['Hello', ' World!']\n",
            "Replace 'World' with 'Python': Hello, Python!\n",
            "\n",
            "Original List: [1, 2, 3, 4, 5]\n",
            "After Append: [1, 2, 3, 4, 5, 6]\n",
            "After Remove 3: [1, 2, 4, 5, 6]\n",
            "Slicing first 3 elements: [1, 2, 4]\n",
            "Length of list: 5\n",
            "\n",
            "Tuple: (10, 20, 30, 40)\n",
            "First element: 10\n",
            "Count of 20 in tuple: 1\n",
            "Index of 30: 2\n",
            "\n",
            "Original Set: {1, 2, 3, 4, 5}\n",
            "After Adding 6: {1, 2, 3, 4, 5, 6}\n",
            "After Discarding 3: {1, 2, 4, 5, 6}\n",
            "Check if 4 in set: True\n",
            "Set length: 5\n",
            "\n"
          ]
        }
      ],
      "source": [
        "def string_operations():\n",
        "    s = \"Hello, World!\"\n",
        "    print(\"Original String:\", s)\n",
        "    print(\"Lowercase:\", s.lower())\n",
        "    print(\"Uppercase:\", s.upper())\n",
        "    print(\"Split by comma:\", s.split(\",\"))\n",
        "    print(\"Replace 'World' with 'Python':\", s.replace(\"World\", \"Python\"))\n",
        "    print()\n",
        "\n",
        "def list_operations():\n",
        "    lst = [1, 2, 3, 4, 5]\n",
        "    print(\"Original List:\", lst)\n",
        "    lst.append(6)\n",
        "    print(\"After Append:\", lst)\n",
        "    lst.remove(3)\n",
        "    print(\"After Remove 3:\", lst)\n",
        "    print(\"Slicing first 3 elements:\", lst[:3])\n",
        "    print(\"Length of list:\", len(lst))\n",
        "    print()\n",
        "\n",
        "def tuple_operations():\n",
        "    tpl = (10, 20, 30, 40)\n",
        "    print(\"Tuple:\", tpl)\n",
        "    print(\"First element:\", tpl[0])\n",
        "    print(\"Count of 20 in tuple:\", tpl.count(20))\n",
        "    print(\"Index of 30:\", tpl.index(30))\n",
        "    print()\n",
        "\n",
        "def set_operations():\n",
        "    st = {1, 2, 3, 4, 5}\n",
        "    print(\"Original Set:\", st)\n",
        "    st.add(6)\n",
        "    print(\"After Adding 6:\", st)\n",
        "    st.discard(3)\n",
        "    print(\"After Discarding 3:\", st)\n",
        "    print(\"Check if 4 in set:\", 4 in st)\n",
        "    print(\"Set length:\", len(st))\n",
        "    print()\n",
        "\n",
        "def main():\n",
        "    string_operations()\n",
        "    list_operations()\n",
        "    tuple_operations()\n",
        "    set_operations()\n",
        "\n",
        "if __name__ == \"__main__\":\n",
        "    main()\n"
      ]
    }
  ]
}