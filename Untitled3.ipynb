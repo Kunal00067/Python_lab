{
  "nbformat": 4,
  "nbformat_minor": 0,
  "metadata": {
    "colab": {
      "provenance": [],
      "authorship_tag": "ABX9TyMZuTA21uFERyDMyIlZDZ9V",
      "include_colab_link": true
    },
    "kernelspec": {
      "name": "python3",
      "display_name": "Python 3"
    },
    "language_info": {
      "name": "python"
    }
  },
  "cells": [
    {
      "cell_type": "markdown",
      "metadata": {
        "id": "view-in-github",
        "colab_type": "text"
      },
      "source": [
        "<a href=\"https://colab.research.google.com/github/Kunal00067/Python_lab/blob/main/Untitled3.ipynb\" target=\"_parent\"><img src=\"https://colab.research.google.com/assets/colab-badge.svg\" alt=\"Open In Colab\"/></a>"
      ]
    },
    {
      "cell_type": "code",
      "execution_count": null,
      "metadata": {
        "id": "Pg8bucrCbfyc"
      },
      "outputs": [],
      "source": [
        "#progrma 1 reverse of a string\n",
        "input_str = input(str(\"Enter a string: \"))\n",
        "\n",
        "reverse = \"\"\n",
        "\n",
        "for i in range(len(input_str)-1, -1, -1):\n",
        "    reverse += input_str[i]\n",
        "\n",
        "print(\"Reverse of the string is:\", reverse)\n"
      ]
    },
    {
      "cell_type": "code",
      "source": [
        "# promgram 2 sting is palindrome\n",
        "input_str = input(\"Enter a string: \")\n",
        "\n",
        "reverse = \"\"\n",
        "\n",
        "for i in range(len(input_str)-1, -1, -1):\n",
        "    reverse += input_str[i]\n",
        "\n",
        "if reverse == input_str:\n",
        "    print(\"The string is palindrome\")\n",
        "else:\n",
        "    print(\"The string is not palindrome\")\n",
        "\n"
      ],
      "metadata": {
        "id": "GEhb5YiFbtzN"
      },
      "execution_count": null,
      "outputs": []
    }
  ]
}