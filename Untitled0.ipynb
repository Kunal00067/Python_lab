{
  "nbformat": 4,
  "nbformat_minor": 0,
  "metadata": {
    "colab": {
      "provenance": [],
      "authorship_tag": "ABX9TyNm/KWavaglP2/j7mxExm20",
      "include_colab_link": true
    },
    "kernelspec": {
      "name": "python3",
      "display_name": "Python 3"
    },
    "language_info": {
      "name": "python"
    }
  },
  "cells": [
    {
      "cell_type": "markdown",
      "metadata": {
        "id": "view-in-github",
        "colab_type": "text"
      },
      "source": [
        "<a href=\"https://colab.research.google.com/github/Kunal00067/Python_lab/blob/main/Untitled0.ipynb\" target=\"_parent\"><img src=\"https://colab.research.google.com/assets/colab-badge.svg\" alt=\"Open In Colab\"/></a>"
      ]
    },
    {
      "cell_type": "code",
      "execution_count": 1,
      "metadata": {
        "colab": {
          "base_uri": "https://localhost:8080/"
        },
        "id": "ZGZyrDi3Um_V",
        "outputId": "e7279953-8bdf-49b6-bafa-984009024b7e"
      },
      "outputs": [
        {
          "output_type": "stream",
          "name": "stdout",
          "text": [
            "capitalize(): Hello world\n",
            "casefold(): hello\n",
            "center(): --------------hello world---------------\n",
            "count(): 3\n",
            "encode(): b'hello world'\n",
            "endswith(): True\n",
            "expandtabs(): Hello   World\n",
            "find(): 6\n",
            "format(): My name is chirag\n",
            "format_map(): My name is chirag and I am 21\n",
            "index(): 6\n",
            "isalnum(): True\n",
            "isalpha(): True\n"
          ]
        }
      ],
      "source": [
        "text = \"hello world\"\n",
        "num_text = \"123\"\n",
        "alpha_text = \"Hello\"\n",
        "alnum_text = \"Hello123\"\n",
        "tabbed = \"Hello\\tWorld\"\n",
        "\n",
        "\n",
        "print(\"capitalize():\", text.capitalize())\n",
        "\n",
        "\n",
        "print(\"casefold():\", \"HELLO\".casefold())\n",
        "\n",
        "\n",
        "print(\"center():\", text.center(40, \"-\"))\n",
        "\n",
        "\n",
        "print(\"count():\", text.count(\"l\"))\n",
        "\n",
        "\n",
        "print(\"encode():\", text.encode())\n",
        "\n",
        "\n",
        "print(\"endswith():\", text.endswith(\"world\"))\n",
        "\n",
        "\n",
        "print(\"expandtabs():\", tabbed.expandtabs(4))\n",
        "\n",
        "\n",
        "print(\"find():\", text.find(\"world\"))\n",
        "\n",
        "\n",
        "print(\"format():\", \"My name is {}\".format(\"chirag\"))\n",
        "\n",
        "\n",
        "input = {\"name\": \"chirag\", \"age\": 21}\n",
        "print(\"format_map():\", \"My name is {name} and I am {age}\".format_map(input))\n",
        "\n",
        "\n",
        "print(\"index():\", text.index(\"world\"))\n",
        "\n",
        "\n",
        "print(\"isalnum():\", alnum_text.isalnum())\n",
        "\n",
        "\n",
        "print(\"isalpha():\", alpha_text.isalpha())"
      ]
    }
  ]
}