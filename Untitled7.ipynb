{
  "nbformat": 4,
  "nbformat_minor": 0,
  "metadata": {
    "colab": {
      "provenance": [],
      "authorship_tag": "ABX9TyNUwav3ZnJPtu5jVuPli7/t",
      "include_colab_link": true
    },
    "kernelspec": {
      "name": "python3",
      "display_name": "Python 3"
    },
    "language_info": {
      "name": "python"
    }
  },
  "cells": [
    {
      "cell_type": "markdown",
      "metadata": {
        "id": "view-in-github",
        "colab_type": "text"
      },
      "source": [
        "<a href=\"https://colab.research.google.com/github/Kunal00067/Python_lab/blob/main/Untitled7.ipynb\" target=\"_parent\"><img src=\"https://colab.research.google.com/assets/colab-badge.svg\" alt=\"Open In Colab\"/></a>"
      ]
    },
    {
      "cell_type": "code",
      "source": [
        "users = {}\n",
        "\n",
        "def register():\n",
        "    username = input(\"Enter a new username: \")\n",
        "    if username in users:\n",
        "        print(\"Username already exists.\")\n",
        "        return\n",
        "\n",
        "    password = input(\"Enter a new password: \")\n",
        "    users[username] = password\n",
        "    print(\"Registration successful\")\n",
        "\n",
        "\n",
        "\n",
        "def login():\n",
        "    username = input(\"Enter your username: \")\n",
        "    if username in users:\n",
        "        password = input(\"Enter your password: \")\n",
        "        if users[username] == password :\n",
        "            print(\"Login successful, welcome back\",+username)\n",
        "        else:\n",
        "            print(\"Login failed: Incorrect password.\")\n",
        "\n",
        "\n",
        "def main():\n",
        "    while True:\n",
        "        print(\"\\n1. Register\\n2. Login\\n3. Exit\")\n",
        "        choice = input(\"Enter your choice: \")\n",
        "\n",
        "        if choice == \"1\":\n",
        "            register()\n",
        "        elif choice == \"2\":\n",
        "            login()\n",
        "        elif choice == \"3\":\n",
        "            print(\"Thank you!\")\n",
        "            break\n",
        "        else:\n",
        "            print(\"Invalid input.\")\n",
        "\n",
        "if __name__ == \"__main__\":\n",
        "    main()\n"
      ],
      "metadata": {
        "colab": {
          "base_uri": "https://localhost:8080/"
        },
        "id": "lOrozmBtw3WY",
        "outputId": "259f5a75-6507-43cc-c861-941c1eba9a58"
      },
      "execution_count": null,
      "outputs": [
        {
          "output_type": "stream",
          "name": "stdout",
          "text": [
            "\n",
            "1. Register\n",
            "2. Login\n",
            "3. Exit\n",
            "Enter your choice: 1\n",
            "Enter a new username: wipo\n",
            "Enter a new password: wipo'\n",
            "Registration successful!\n",
            "\n",
            "1. Register\n",
            "2. Login\n",
            "3. Exit\n"
          ]
        }
      ]
    }
  ]
}