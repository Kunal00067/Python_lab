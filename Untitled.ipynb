{
 "cells": [
  {
   "cell_type": "code",
   "execution_count": 17,
   "id": "f81b2666-2c84-4c16-834d-474a094658be",
   "metadata": {},
   "outputs": [
    {
     "name": "stdin",
     "output_type": "stream",
     "text": [
      "enter your age: 55\n"
     ]
    },
    {
     "name": "stdout",
     "output_type": "stream",
     "text": [
      "you are eligible to vote\n"
     ]
    }
   ],
   "source": [
    "age = int(input(\"enter your age:\"))\n",
    "\n",
    "if age >= 18:\n",
    "         print(\"you are eligible to vote\")\n",
    "else:\n",
    "         print(\"you are not eligible to vote\")\n",
    "         "
   ]
  },
  {
   "cell_type": "markdown",
   "id": "89d0ba60-5bdb-41d1-bd4e-73927f926bce",
   "metadata": {},
   "source": [
    "program 2:"
   ]
  },
  {
   "cell_type": "code",
   "execution_count": 19,
   "id": "710a1a87-9cf0-4b86-8445-1b32b1d6c2ae",
   "metadata": {},
   "outputs": [
    {
     "name": "stdin",
     "output_type": "stream",
     "text": [
      "Enter first number:  4\n",
      "Enter second number:  5\n",
      "Enter third number:  6\n"
     ]
    },
    {
     "name": "stdout",
     "output_type": "stream",
     "text": [
      "The largest number is: 6.0\n"
     ]
    }
   ],
   "source": [
    "num1 = float(input(\"Enter first number: \"))\n",
    "num2 = float(input(\"Enter second number: \"))\n",
    "num3 = float(input(\"Enter third number: \"))\n",
    "\n",
    "\n",
    "if num1 >= num2 and num1 >= num3:\n",
    "    largest = num1\n",
    "if num2 >= num1 and num2 >= num3:\n",
    "    largest = num2\n",
    "else:\n",
    "    largest = num3\n",
    "\n",
    "\n",
    "print(\"The largest number is:\", largest)"
   ]
  },
  {
   "cell_type": "code",
   "execution_count": null,
   "id": "7abee6cf-7366-4fbb-b050-807e3074aea4",
   "metadata": {},
   "outputs": [],
   "source": []
  },
  {
   "cell_type": "code",
   "execution_count": 26,
   "id": "2ca6834a-2702-4665-9ae4-c0f09ae23b3b",
   "metadata": {},
   "outputs": [
    {
     "name": "stdout",
     "output_type": "stream",
     "text": [
      "capitalize(): Hello world\n",
      "casefold(): hello\n",
      "center(): --------------hello world---------------\n",
      "count(): 3\n",
      "encode(): b'hello world'\n",
      "endswith(): True\n",
      "expandtabs(): Hello   World\n",
      "find(): 6\n",
      "format(): My name is chirag\n",
      "format_map(): My name is chirag and I am 21\n",
      "index(): 6\n",
      "isalnum(): True\n",
      "isalpha(): True\n"
     ]
    }
   ],
   "source": [
    "text = \"hello world\"\n",
    "num_text = \"123\"\n",
    "alpha_text = \"Hello\"\n",
    "alnum_text = \"Hello123\"\n",
    "tabbed = \"Hello\\tWorld\"\n",
    "\n",
    "\n",
    "print(\"capitalize():\", text.capitalize())\n",
    "\n",
    "\n",
    "print(\"casefold():\", \"HELLO\".casefold())  \n",
    "\n",
    "\n",
    "print(\"center():\", text.center(40, \"-\")) \n",
    "\n",
    "\n",
    "print(\"count():\", text.count(\"l\"))  \n",
    "\n",
    "\n",
    "print(\"encode():\", text.encode())  \n",
    "\n",
    "\n",
    "print(\"endswith():\", text.endswith(\"world\")) \n",
    "\n",
    "\n",
    "print(\"expandtabs():\", tabbed.expandtabs(4)) \n",
    "\n",
    "\n",
    "print(\"find():\", text.find(\"world\"))  \n",
    "\n",
    "\n",
    "print(\"format():\", \"My name is {}\".format(\"chirag\"))  \n",
    "\n",
    "\n",
    "input = {\"name\": \"chirag\", \"age\": 21}\n",
    "print(\"format_map():\", \"My name is {name} and I am {age}\".format_map(input)) \n",
    "\n",
    "\n",
    "print(\"index():\", text.index(\"world\")) \n",
    "\n",
    "\n",
    "print(\"isalnum():\", alnum_text.isalnum()) \n",
    "\n",
    "\n",
    "print(\"isalpha():\", alpha_text.isalpha())  "
   ]
  }
 ],
 "metadata": {
  "kernelspec": {
   "display_name": "Python 3 (ipykernel)",
   "language": "python",
   "name": "python3"
  },
  "language_info": {
   "codemirror_mode": {
    "name": "ipython",
    "version": 3
   },
   "file_extension": ".py",
   "mimetype": "text/x-python",
   "name": "python",
   "nbconvert_exporter": "python",
   "pygments_lexer": "ipython3",
   "version": "3.12.4"
  }
 },
 "nbformat": 4,
 "nbformat_minor": 5
}
