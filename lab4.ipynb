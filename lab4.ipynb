{
  "nbformat": 4,
  "nbformat_minor": 0,
  "metadata": {
    "colab": {
      "provenance": [],
      "authorship_tag": "ABX9TyOS2aUjOhvfYYBCrB4j2wjl",
      "include_colab_link": true
    },
    "kernelspec": {
      "name": "python3",
      "display_name": "Python 3"
    },
    "language_info": {
      "name": "python"
    }
  },
  "cells": [
    {
      "cell_type": "markdown",
      "metadata": {
        "id": "view-in-github",
        "colab_type": "text"
      },
      "source": [
        "<a href=\"https://colab.research.google.com/github/Kunal00067/Python_lab/blob/main/lab4.ipynb\" target=\"_parent\"><img src=\"https://colab.research.google.com/assets/colab-badge.svg\" alt=\"Open In Colab\"/></a>"
      ]
    },
    {
      "cell_type": "code",
      "source": [
        "#program 1: lab4\n",
        "#wap to enter a number and display its hex and octal equivalent and its square root\n",
        "num = int(input(\"Enter the number: \"))\n",
        "\n",
        "print(\"Hexadecimal of \" + str(num) + \": \" + str(hex(num)))\n",
        "print(\"Octal of \" + str(num) + \": \" + str(oct(num)))\n",
        "print(\"Square root of \" + str(num) + \": \" + str(num ** 0.5))\n"
      ],
      "metadata": {
        "colab": {
          "base_uri": "https://localhost:8080/"
        },
        "id": "y8Yc_eGNflG6",
        "outputId": "94b468bd-d5f2-46f8-bc15-ef1b49ed62fb"
      },
      "execution_count": 4,
      "outputs": [
        {
          "output_type": "stream",
          "name": "stdout",
          "text": [
            "Enter the number: 555\n",
            "Hexadecimal of 555: 0x22b\n",
            "Octal of 555: 0o1053\n",
            "Square root of 555: 23.558437978779494\n"
          ]
        }
      ]
    },
    {
      "cell_type": "code",
      "source": [
        "#program 2: lab4\n",
        "#wap to read and print values of variables of different data types\n",
        "int_var = int(input(\"Enter an integer: \"))\n",
        "print(\"Integer value:\", int_var)\n",
        "\n",
        "float_var = float(input(\"Enter a float: \"))\n",
        "print(\"Float value:\", float_var)\n",
        "\n",
        "str_var = input(\"Enter a string: \")\n",
        "print(\"String value:\", str_var)\n",
        "\n",
        "bool_input = input(\"Enter a boolean (True/False): \")\n",
        "bool_var = bool_input.lower() == 'true'\n",
        "print(\"Boolean value:\", bool_var)\n"
      ],
      "metadata": {
        "colab": {
          "base_uri": "https://localhost:8080/"
        },
        "id": "60dDRDOpfq6Q",
        "outputId": "b72333eb-6aef-46fe-87f1-79d20df05be5"
      },
      "execution_count": 6,
      "outputs": [
        {
          "output_type": "stream",
          "name": "stdout",
          "text": [
            "Enter an integer: 5\n",
            "Integer value: 5\n",
            "Enter a float: 5.55\n",
            "Float value: 5.55\n",
            "Enter a string: sdkgj\n",
            "String value: sdkgj\n",
            "Enter a boolean (True/False): HELLOLL\n",
            "Boolean value: False\n"
          ]
        }
      ]
    },
    {
      "cell_type": "markdown",
      "source": [],
      "metadata": {
        "id": "u_vJ8F_9ggOI"
      }
    },
    {
      "cell_type": "code",
      "source": [
        "#program 3: lab4\n",
        "#wap to calculate the area of triangle using heron's formula\n",
        "a = float(input(\"Enter length of side a: \"))\n",
        "b = float(input(\"Enter length of side b: \"))\n",
        "c = float(input(\"Enter length of side c: \"))\n",
        "\n",
        "s = (a + b + c) / 2\n",
        "\n",
        "area = (s * (s - a) * (s - b) * (s - c)) ** 0.5\n",
        "\n",
        "print(\"The area of the triangle is: \" + str(area))\n",
        "\n"
      ],
      "metadata": {
        "colab": {
          "base_uri": "https://localhost:8080/"
        },
        "id": "Yla8f-I0ghYv",
        "outputId": "7653e726-d693-449d-a97d-89b2096b4a2c"
      },
      "execution_count": 8,
      "outputs": [
        {
          "output_type": "stream",
          "name": "stdout",
          "text": [
            "Enter length of side a: 5\n",
            "Enter length of side b: 4\n",
            "Enter length of side c: 2\n",
            "The area of the triangle is: 3.799671038392666\n"
          ]
        }
      ]
    },
    {
      "cell_type": "code",
      "source": [
        "#program 4: lab4\n",
        "# wap to find the distance between two points\n",
        "x1 = float(input(\"Enter x-coordinate of first point: \"))\n",
        "y1 = float(input(\"Enter y-coordinate of first point: \"))\n",
        "\n",
        "x2 = float(input(\"Enter x-coordinate of second point: \"))\n",
        "y2 = float(input(\"Enter y-coordinate of second point: \"))\n",
        "\n",
        "distance = ((x2 - x1)**2 + (y2 - y1)**2) ** 0.5\n",
        "\n",
        "print(\"Distance between the two points is: \" + str(distance))\n"
      ],
      "metadata": {
        "id": "VkM-l5jbhCqY"
      },
      "execution_count": null,
      "outputs": []
    },
    {
      "cell_type": "code",
      "source": [
        "#program 5: lab4\n",
        "# wap to print the digit at one's place of a number\n",
        "\n",
        "num = int(input(\"Enter a number: \"))\n",
        "ones_digit = num % 10\n",
        "print(\"Digit at one's place:\", ones_digit)\n"
      ],
      "metadata": {
        "colab": {
          "base_uri": "https://localhost:8080/"
        },
        "id": "4ek-FrfOhQJn",
        "outputId": "9a9bfb5d-45ea-4b52-ddd2-85350dc58e2f"
      },
      "execution_count": 9,
      "outputs": [
        {
          "output_type": "stream",
          "name": "stdout",
          "text": [
            "Enter a number: 455\n",
            "Digit at one's place: 5\n"
          ]
        }
      ]
    },
    {
      "cell_type": "code",
      "source": [
        "#program 6: lab4\n",
        "#conversion of Fahrenheit to degree\n",
        "fahrenheit = float(input(\"Enter temperature in Fahrenheit: \"))\n",
        "\n",
        "celsius = (fahrenheit - 32) * 5 / 9\n",
        "\n",
        "print(\"Temperature in Celsius: \" + str(celsius))\n"
      ],
      "metadata": {
        "id": "rzrc5UrWjofw"
      },
      "execution_count": null,
      "outputs": []
    },
    {
      "cell_type": "code",
      "source": [
        "#program 7: lab4\n",
        "#wap to calculate student result based on two examination,1 sport event,3 activities conducted. the weightage of activities=30%,sport 20% and examination 50%\n",
        "exam1 = float(input(\"Enter marks for Examination 1 (out of 100): \"))\n",
        "exam2 = float(input(\"Enter marks for Examination 2 (out of 100): \"))\n",
        "\n",
        "sport = float(input(\"Enter marks for Sport event (out of 100): \"))\n",
        "\n",
        "activity1 = float(input(\"Enter marks for Activity 1 (out of 100): \"))\n",
        "activity2 = float(input(\"Enter marks for Activity 2 (out of 100): \"))\n",
        "activity3 = float(input(\"Enter marks for Activity 3 (out of 100): \"))\n",
        "\n",
        "exam_avg = (exam1 + exam2) / 2\n",
        "activity_avg = (activity1 + activity2 + activity3) / 3\n",
        "\n",
        "result = (exam_avg * 0.50) + (sport * 0.20) + (activity_avg * 0.30)\n",
        "\n",
        "print(\"Final weighted result: \" + str(result))\n"
      ],
      "metadata": {
        "id": "53bi4h4vkwm1"
      },
      "execution_count": null,
      "outputs": []
    }
  ]
}